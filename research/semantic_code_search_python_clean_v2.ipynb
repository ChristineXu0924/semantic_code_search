{
 "cells": [
  {
   "cell_type": "markdown",
   "id": "4749d12e",
   "metadata": {},
   "source": [
    "## BM25 on Documentation"
   ]
  },
  {
   "cell_type": "markdown",
   "id": "87108472",
   "metadata": {},
   "source": [
    "https://www.analyticsvidhya.com/blog/2021/05/build-your-own-nlp-based-search-engine-using-bm25/"
   ]
  },
  {
   "cell_type": "code",
   "execution_count": 1,
   "id": "be86e1ab",
   "metadata": {},
   "outputs": [],
   "source": [
    "from datasets import load_dataset\n",
    "import pandas as pd\n",
    "import numpy as np\n",
    "import re\n",
    "import math\n",
    "import nltk\n",
    "from nltk.corpus import stopwords\n",
    "from nltk.tokenize import word_tokenize\n",
    "import string\n",
    "from nltk.stem import WordNetLemmatizer\n",
    "from nltk.stem import PorterStemmer\n",
    "from sentence_transformers import SentenceTransformer, util\n",
    "from transformers import AutoTokenizer\n",
    "import torch\n",
    "import snakecase\n",
    "from rank_bm25 import BM25Okapi"
   ]
  },
  {
   "cell_type": "code",
   "execution_count": 2,
   "id": "62f0d402",
   "metadata": {},
   "outputs": [
    {
     "name": "stdout",
     "output_type": "stream",
     "text": [
      "Using device: cuda\n"
     ]
    }
   ],
   "source": [
    "device = torch.device(\"cuda\" if torch.cuda.is_available() else \"cpu\")\n",
    "print(f\"Using device: {device}\")"
   ]
  },
  {
   "cell_type": "markdown",
   "id": "00ad78b7",
   "metadata": {},
   "source": [
    "### Import data"
   ]
  },
  {
   "cell_type": "code",
   "execution_count": 3,
   "id": "d1f1772d",
   "metadata": {},
   "outputs": [],
   "source": [
    "# train and test data\n",
    "train_py = pd.read_csv('python_train_dataset.csv')\n",
    "test_py = pd.read_csv('python_test_dataset.csv')\n",
    "\n",
    "# ground truth data\n",
    "labeled_dataset = pd.read_csv('annotationStore.csv')\n",
    "labeled_py = labeled_dataset[labeled_dataset['Language'] == 'Python']\n",
    "\n",
    "# 99 queries\n",
    "queries = pd.read_csv('queries.csv')\n",
    "\n",
    "# only contains labeled data for python that exists in train_py\n",
    "merged_py = labeled_py.merge(train_py, left_on='GitHubUrl', right_on='func_code_url')\n",
    "\n",
    "# func name + documentation string (func name not yet preprocessed)\n",
    "doc = train_py['func_name'] + ' ' + train_py['func_documentation_string']\n",
    "doc_emb = np.load('func_name_docu_doc_emb.npy')"
   ]
  },
  {
   "cell_type": "markdown",
   "id": "ae45ba9e",
   "metadata": {},
   "source": [
    "### Documentation as a feature"
   ]
  },
  {
   "cell_type": "code",
   "execution_count": 4,
   "id": "51c32158",
   "metadata": {},
   "outputs": [],
   "source": [
    "docs = (train_py['func_name'] + ' ' + train_py['func_documentation_string']).str.lower()"
   ]
  },
  {
   "cell_type": "code",
   "execution_count": 5,
   "id": "82a8b20f",
   "metadata": {},
   "outputs": [
    {
     "data": {
      "text/plain": [
       "0    imagegraphcut.__msgc_step3_discontinuity_local...\n",
       "1    imagegraphcut.__multiscale_gc_lo2hi_run run gr...\n",
       "2    imagegraphcut.__multiscale_gc_hi2lo_run run gr...\n",
       "3    imagegraphcut.__ordered_values_by_indexes retu...\n",
       "4    imagegraphcut.__hi2lo_multiscale_indexes funct...\n",
       "dtype: object"
      ]
     },
     "execution_count": 5,
     "metadata": {},
     "output_type": "execute_result"
    }
   ],
   "source": [
    "docs.head()"
   ]
  },
  {
   "cell_type": "markdown",
   "id": "87d518ba",
   "metadata": {},
   "source": [
    "#### Remove special characters"
   ]
  },
  {
   "cell_type": "code",
   "execution_count": 6,
   "id": "ee2b85ef",
   "metadata": {},
   "outputs": [],
   "source": [
    "def remove_special_chars(doc):\n",
    "    try:\n",
    "        doc = re.sub('[^0-9a-zA-Z]', ' ', doc)\n",
    "        doc = re.sub('\\s+', ' ', doc)\n",
    "        return doc\n",
    "    except:\n",
    "        return ''"
   ]
  },
  {
   "cell_type": "code",
   "execution_count": 7,
   "id": "f1ca0f69",
   "metadata": {},
   "outputs": [],
   "source": [
    "# preprocessed_docs = docs.apply(remove_special_chars).str.split()"
   ]
  },
  {
   "cell_type": "code",
   "execution_count": 8,
   "id": "cded1a04",
   "metadata": {},
   "outputs": [],
   "source": [
    "# preprocessed_docs.to_csv('preprocessed_docs.csv')"
   ]
  },
  {
   "cell_type": "code",
   "execution_count": null,
   "id": "7ec83f2b",
   "metadata": {},
   "outputs": [],
   "source": [
    "preprocessed_docs = pd.read_csv('preprocessed_docs.csv')"
   ]
  },
  {
   "cell_type": "markdown",
   "id": "d0cbc72b",
   "metadata": {},
   "source": [
    "#### Remove stopwords"
   ]
  },
  {
   "cell_type": "code",
   "execution_count": 9,
   "id": "a7ebeaac",
   "metadata": {},
   "outputs": [],
   "source": [
    "nltk_stopwords = set(stopwords.words('english'))"
   ]
  },
  {
   "cell_type": "code",
   "execution_count": 10,
   "id": "89e516da",
   "metadata": {},
   "outputs": [],
   "source": [
    "def remove_stopwords(doc):\n",
    "    return [word for word in doc if word.lower() not in nltk_stopwords]"
   ]
  },
  {
   "cell_type": "code",
   "execution_count": 11,
   "id": "63d27eca",
   "metadata": {},
   "outputs": [],
   "source": [
    "# preprocessed_docs2 = preprocessed_docs.apply(remove_stopwords)"
   ]
  },
  {
   "cell_type": "code",
   "execution_count": 12,
   "id": "fd8849b5",
   "metadata": {},
   "outputs": [],
   "source": [
    "# preprocessed_docs2.to_csv('preprocessed_docs2.csv')"
   ]
  },
  {
   "cell_type": "code",
   "execution_count": null,
   "id": "d21bb271",
   "metadata": {},
   "outputs": [],
   "source": [
    "preprocessed_docs2 = pd.read_csv('preprocessed_docs2.csv')"
   ]
  },
  {
   "cell_type": "markdown",
   "id": "585b5aab",
   "metadata": {},
   "source": [
    "#### Stemming"
   ]
  },
  {
   "cell_type": "code",
   "execution_count": 14,
   "id": "9735ac9f",
   "metadata": {},
   "outputs": [],
   "source": [
    "def stemming(doc):\n",
    "    ps = PorterStemmer()\n",
    "    return [ps.stem(word) for word in doc]"
   ]
  },
  {
   "cell_type": "code",
   "execution_count": 15,
   "id": "68d94298",
   "metadata": {},
   "outputs": [],
   "source": [
    "# preprocessed_docs3 = preprocessed_docs2.apply(stemming)"
   ]
  },
  {
   "cell_type": "code",
   "execution_count": 16,
   "id": "8da3c562",
   "metadata": {},
   "outputs": [],
   "source": [
    "# preprocessed_docs3.to_csv('preprocessed_docs3.csv')"
   ]
  },
  {
   "cell_type": "code",
   "execution_count": null,
   "id": "1244112a",
   "metadata": {},
   "outputs": [],
   "source": [
    "preprocessed_docs3 = pd.read_csv('preprocessed_docs3.csv')"
   ]
  },
  {
   "cell_type": "markdown",
   "id": "ac6feff4",
   "metadata": {},
   "source": [
    "### Run search"
   ]
  },
  {
   "cell_type": "code",
   "execution_count": 17,
   "id": "d7162fdd",
   "metadata": {},
   "outputs": [],
   "source": [
    "def return_relevant_docs(query, preprocessed_docs, tokenized_docs, k=10):\n",
    "    tokenized_query = query.lower().split()\n",
    "    \n",
    "    bm25 = BM25Okapi(tokenized_docs)\n",
    "    results = bm25.get_top_n(tokenized_query, train_py['func_code_url'], n=k)\n",
    "    \n",
    "    scores = bm25.get_scores(tokenized_query)\n",
    "    top_k_scores = sorted(scores, reverse=True)[:k]\n",
    "    \n",
    "    sim_scores, ranks, urls = [], [], []\n",
    "    for i, res in enumerate(results):\n",
    "        sim_scores.append(top_k_scores[i])\n",
    "        ranks.append(i+1)\n",
    "        urls.append(res)\n",
    "        \n",
    "    return pd.DataFrame({'score': sim_scores, 'rank': ranks, 'url': urls})"
   ]
  },
  {
   "cell_type": "code",
   "execution_count": 18,
   "id": "92bbd1ec",
   "metadata": {},
   "outputs": [],
   "source": [
    "# test_query = 'convert int to string'\n",
    "# return_relevant_docs(test_query, preprocessed_docs, tokenized_docs)"
   ]
  },
  {
   "cell_type": "code",
   "execution_count": 19,
   "id": "4725a01b",
   "metadata": {},
   "outputs": [],
   "source": [
    "def model_predictions(preprocessed_docs, tokenized_docs, k=10):\n",
    "    df_queries, df_urls = [], []\n",
    "    for query in queries['query'].values:\n",
    "        results = return_relevant_docs(query, preprocessed_docs, tokenized_docs, k=k)\n",
    "        \n",
    "        df_queries += [query] * k\n",
    "        df_urls += list(results['url'].values)\n",
    "        \n",
    "    return pd.DataFrame({'language': ['Python'] * len(df_queries), 'query': df_queries, 'url': df_urls})"
   ]
  },
  {
   "cell_type": "markdown",
   "id": "da9e0a84",
   "metadata": {},
   "source": [
    "#### No preprocessing"
   ]
  },
  {
   "cell_type": "code",
   "execution_count": 7,
   "id": "fbe0358a",
   "metadata": {},
   "outputs": [],
   "source": [
    "docus = docs.fillna('')\n",
    "tokenized_docus = docus.apply(lambda x: x.split()).to_numpy()"
   ]
  },
  {
   "cell_type": "code",
   "execution_count": 8,
   "id": "f590d392",
   "metadata": {},
   "outputs": [],
   "source": [
    "# no_preprocess_results = model_predictions(docus, tokenized_docus)"
   ]
  },
  {
   "cell_type": "code",
   "execution_count": 9,
   "id": "06529c71",
   "metadata": {},
   "outputs": [],
   "source": [
    "# no_preprocess_results.to_csv('bm25_no_preprocess_results.csv')"
   ]
  },
  {
   "cell_type": "code",
   "execution_count": 13,
   "id": "2643cf09",
   "metadata": {},
   "outputs": [
    {
     "name": "stdout",
     "output_type": "stream",
     "text": [
      "% of URLs in predictions that exist in the annotation dataset:\r\n",
      "\tpython: 12.45%\r\n",
      "% of URLs in predictions that exist in the annotation dataset (avg relevance > 0):\r\n",
      "\tpython: 13.44%\r\n",
      "NDCG:\r\n",
      "\tpython: 0.182\r\n",
      "NDCG (full ranking):\r\n",
      "\tpython: 0.106\r\n"
     ]
    }
   ],
   "source": [
    "!python relevanceeval.py annotation_store_py.csv bm25_no_preprocess_results.csv"
   ]
  },
  {
   "cell_type": "markdown",
   "id": "2e0ff9be",
   "metadata": {},
   "source": [
    "#### Preprocessing: removal of special chars only"
   ]
  },
  {
   "cell_type": "code",
   "execution_count": 8,
   "id": "7f67f37e",
   "metadata": {},
   "outputs": [],
   "source": [
    "tokenized_docs = preprocessed_docs.apply(lambda x: x.split()).to_numpy()"
   ]
  },
  {
   "cell_type": "code",
   "execution_count": 42,
   "id": "ecbe2254",
   "metadata": {},
   "outputs": [],
   "source": [
    "# results = model_predictions(preprocessed_docs, tokenized_docs)"
   ]
  },
  {
   "cell_type": "code",
   "execution_count": 44,
   "id": "96d80f17",
   "metadata": {},
   "outputs": [],
   "source": [
    "# results.to_csv('bm25_results.csv')"
   ]
  },
  {
   "cell_type": "code",
   "execution_count": 45,
   "id": "85170959",
   "metadata": {},
   "outputs": [
    {
     "name": "stdout",
     "output_type": "stream",
     "text": [
      "% of URLs in predictions that exist in the annotation dataset:\r\n",
      "\tpython: 17.81%\r\n",
      "% of URLs in predictions that exist in the annotation dataset (avg relevance > 0):\r\n",
      "\tpython: 18.87%\r\n",
      "NDCG:\r\n",
      "\tpython: 0.257\r\n",
      "NDCG (full ranking):\r\n",
      "\tpython: 0.173\r\n"
     ]
    }
   ],
   "source": [
    "!python relevanceeval.py annotation_store_py.csv bm25_results.csv"
   ]
  },
  {
   "cell_type": "markdown",
   "id": "ace4f9a7",
   "metadata": {},
   "source": [
    "#### Preprocessing: removal of special chars and stopwords"
   ]
  },
  {
   "cell_type": "code",
   "execution_count": 31,
   "id": "6f8cc52f",
   "metadata": {},
   "outputs": [],
   "source": [
    "tokenized_docs2 = preprocessed_docs2.to_numpy()"
   ]
  },
  {
   "cell_type": "code",
   "execution_count": 32,
   "id": "999f1c89",
   "metadata": {},
   "outputs": [],
   "source": [
    "# results2 = model_predictions(preprocessed_docs2, tokenized_docs2)"
   ]
  },
  {
   "cell_type": "code",
   "execution_count": 33,
   "id": "faad7b94",
   "metadata": {},
   "outputs": [],
   "source": [
    "# results2.to_csv('bm25_results2.csv')"
   ]
  },
  {
   "cell_type": "code",
   "execution_count": 34,
   "id": "d0c58413",
   "metadata": {},
   "outputs": [
    {
     "name": "stdout",
     "output_type": "stream",
     "text": [
      "% of URLs in predictions that exist in the annotation dataset:\r\n",
      "\tpython: 18.67%\r\n",
      "% of URLs in predictions that exist in the annotation dataset (avg relevance > 0):\r\n",
      "\tpython: 19.81%\r\n",
      "NDCG:\r\n",
      "\tpython: 0.271\r\n",
      "NDCG (full ranking):\r\n",
      "\tpython: 0.185\r\n"
     ]
    }
   ],
   "source": [
    "!python relevanceeval.py annotation_store_py.csv bm25_results2.csv"
   ]
  },
  {
   "cell_type": "markdown",
   "id": "bb3a7023",
   "metadata": {},
   "source": [
    "#### Preprocessing: removal of special chars and stopwords, include stemming"
   ]
  },
  {
   "cell_type": "code",
   "execution_count": 20,
   "id": "d6050f0d",
   "metadata": {},
   "outputs": [],
   "source": [
    "tokenized_docs3 = preprocessed_docs3.to_numpy()"
   ]
  },
  {
   "cell_type": "code",
   "execution_count": 21,
   "id": "f0183aa3",
   "metadata": {},
   "outputs": [],
   "source": [
    "# results3 = model_predictions(preprocessed_docs3, tokenized_docs3)"
   ]
  },
  {
   "cell_type": "code",
   "execution_count": 22,
   "id": "fa320c8e",
   "metadata": {},
   "outputs": [],
   "source": [
    "# results3.to_csv('bm25_results3.csv')"
   ]
  },
  {
   "cell_type": "code",
   "execution_count": 23,
   "id": "13b64b87",
   "metadata": {},
   "outputs": [
    {
     "name": "stdout",
     "output_type": "stream",
     "text": [
      "% of URLs in predictions that exist in the annotation dataset:\r\n",
      "\tpython: 9.01%\r\n",
      "% of URLs in predictions that exist in the annotation dataset (avg relevance > 0):\r\n",
      "\tpython: 9.20%\r\n",
      "NDCG:\r\n",
      "\tpython: 0.133\r\n",
      "NDCG (full ranking):\r\n",
      "\tpython: 0.084\r\n"
     ]
    }
   ],
   "source": [
    "!python relevanceeval.py annotation_store_py.csv bm25_results3.csv"
   ]
  },
  {
   "cell_type": "code",
   "execution_count": null,
   "id": "d5ddcba2",
   "metadata": {},
   "outputs": [],
   "source": []
  },
  {
   "cell_type": "code",
   "execution_count": null,
   "id": "60574ed3",
   "metadata": {},
   "outputs": [],
   "source": []
  },
  {
   "cell_type": "code",
   "execution_count": null,
   "id": "872758b8",
   "metadata": {},
   "outputs": [],
   "source": []
  }
 ],
 "metadata": {
  "kernelspec": {
   "display_name": "Python 3 (ipykernel)",
   "language": "python",
   "name": "python3"
  },
  "language_info": {
   "codemirror_mode": {
    "name": "ipython",
    "version": 3
   },
   "file_extension": ".py",
   "mimetype": "text/x-python",
   "name": "python",
   "nbconvert_exporter": "python",
   "pygments_lexer": "ipython3",
   "version": "3.9.5"
  }
 },
 "nbformat": 4,
 "nbformat_minor": 5
}
