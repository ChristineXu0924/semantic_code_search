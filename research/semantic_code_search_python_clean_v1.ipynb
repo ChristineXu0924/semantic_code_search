{
 "cells": [
  {
   "cell_type": "markdown",
   "id": "e8b6c3ca",
   "metadata": {},
   "source": [
    "#### Note: This notebook focuses on documentation feature and evaluation using NDCG"
   ]
  },
  {
   "cell_type": "code",
   "execution_count": 73,
   "id": "51b4e40c",
   "metadata": {},
   "outputs": [],
   "source": [
    "from datasets import load_dataset\n",
    "import pandas as pd\n",
    "import numpy as np\n",
    "import re\n",
    "import math\n",
    "import nltk\n",
    "from nltk.corpus import stopwords\n",
    "from nltk.tokenize import word_tokenize\n",
    "import string\n",
    "from nltk.stem import WordNetLemmatizer\n",
    "from sentence_transformers import SentenceTransformer, util\n",
    "import torch\n",
    "import snakecase"
   ]
  },
  {
   "cell_type": "code",
   "execution_count": 2,
   "id": "fb38dbc0",
   "metadata": {},
   "outputs": [
    {
     "name": "stdout",
     "output_type": "stream",
     "text": [
      "Using device: cuda\n"
     ]
    }
   ],
   "source": [
    "device = torch.device(\"cuda\" if torch.cuda.is_available() else \"cpu\")\n",
    "print(f\"Using device: {device}\")"
   ]
  },
  {
   "cell_type": "markdown",
   "id": "649f8e18",
   "metadata": {},
   "source": [
    "### Load in data"
   ]
  },
  {
   "cell_type": "code",
   "execution_count": 7,
   "id": "8d2ba5ce",
   "metadata": {},
   "outputs": [],
   "source": [
    "# train and test data\n",
    "train_py = pd.read_csv('python_train_dataset.csv')\n",
    "test_py = pd.read_csv('python_test_dataset.csv')\n",
    "\n",
    "# ground truth data\n",
    "labeled_dataset = pd.read_csv('annotationStore.csv')\n",
    "labeled_py = labeled_dataset[labeled_dataset['Language'] == 'Python']\n",
    "\n",
    "# 99 queries\n",
    "queries = pd.read_csv('queries.csv')\n",
    "\n",
    "# only contains labeled data for python that exists in train_py\n",
    "merged_py = labeled_py.merge(train_py, left_on='GitHubUrl', right_on='func_code_url')\n",
    "\n",
    "# func name + documentation string (func name not yet preprocessed)\n",
    "doc = train_py['func_name'] + ' ' + train_py['func_documentation_string']\n",
    "doc_emb = np.load('func_name_docu_doc_emb.npy')"
   ]
  },
  {
   "cell_type": "markdown",
   "id": "5bd2afb0",
   "metadata": {},
   "source": [
    "### Evaluation (NDCG)"
   ]
  },
  {
   "cell_type": "code",
   "execution_count": 5,
   "id": "18fdf9dd",
   "metadata": {},
   "outputs": [],
   "source": [
    "model = SentenceTransformer('all-MiniLM-L6-v2')"
   ]
  },
  {
   "cell_type": "code",
   "execution_count": 10,
   "id": "c1597466",
   "metadata": {},
   "outputs": [],
   "source": [
    "def return_relevant_docs(query, doc, doc_emb, k=10):\n",
    "    que_doc_emb = model.encode(query, convert_to_tensor=True)\n",
    "        \n",
    "    results = util.semantic_search(que_doc_emb, doc_emb)[0]\n",
    "    top_k_results = results[:k]\n",
    "    rank = 1\n",
    "    \n",
    "    que_doc_df = pd.DataFrame()\n",
    "    que_doc_score = []\n",
    "    que_doc_url = []\n",
    "    que_doc_rank = []\n",
    "    for res in top_k_results:\n",
    "        que_doc_score.append(res['score'])\n",
    "        que_doc_rank.append(rank)\n",
    "        que_doc_url.append(train_py.iloc[res['corpus_id']]['func_code_url'])\n",
    "        github_url = train_py.iloc[res['corpus_id']]['func_code_url']\n",
    "        \n",
    "        rank += 1\n",
    "\n",
    "    que_doc_df['score'] = que_doc_score # similarity score\n",
    "    que_doc_df['rank'] = que_doc_rank # our search engine rank\n",
    "    que_doc_df['url'] = que_doc_url # github url of our returned document\n",
    "    \n",
    "    return que_doc_df"
   ]
  },
  {
   "cell_type": "code",
   "execution_count": 11,
   "id": "db8cfe62",
   "metadata": {},
   "outputs": [],
   "source": [
    "def to_evaluate(doc, doc_emb, k=10):\n",
    "    df_queries, df_urls = [], []\n",
    "    for query in queries['query'].values:\n",
    "        results = return_relevant_docs(query, doc, doc_emb, k=k)\n",
    "        \n",
    "        df_queries += [query] * k\n",
    "        df_urls += list(results['url'].values)\n",
    "        \n",
    "    df_eval = pd.DataFrame({'language': ['Python'] * len(df_queries), \n",
    "                            'query': df_queries, \n",
    "                            'url': df_urls})\n",
    "    \n",
    "    return df_eval"
   ]
  },
  {
   "cell_type": "code",
   "execution_count": 13,
   "id": "a7e190c6",
   "metadata": {},
   "outputs": [],
   "source": [
    "results = to_evaluate(doc, doc_emb)"
   ]
  },
  {
   "cell_type": "code",
   "execution_count": 15,
   "id": "a1c4a79f",
   "metadata": {},
   "outputs": [],
   "source": [
    "# save dataframe as csv file to run ndcg from codesearchnet\n",
    "# results.to_csv('eval_results.csv')"
   ]
  },
  {
   "cell_type": "code",
   "execution_count": 19,
   "id": "73d18cf5",
   "metadata": {},
   "outputs": [],
   "source": [
    "annotation_store_py = merged_py[['Language', 'Query', 'GitHubUrl', 'Relevance', 'Notes']]\n",
    "# annotation_store_py.to_csv('annotation_store_py.csv')"
   ]
  },
  {
   "cell_type": "markdown",
   "id": "daae5890",
   "metadata": {},
   "source": [
    "#### Final evaluation (only on documentation as a feature)\n",
    "NDCG Within: 0.259<br>\n",
    "NDCG All: 0.171"
   ]
  },
  {
   "cell_type": "markdown",
   "id": "1407b31b",
   "metadata": {},
   "source": [
    "### Aside: preprocess func_name"
   ]
  },
  {
   "cell_type": "markdown",
   "id": "420495f3",
   "metadata": {},
   "source": [
    "#### EDA"
   ]
  },
  {
   "cell_type": "code",
   "execution_count": 41,
   "id": "2a353633",
   "metadata": {},
   "outputs": [],
   "source": [
    "test = train_py['func_name'].str.split('.')"
   ]
  },
  {
   "cell_type": "code",
   "execution_count": 53,
   "id": "4f156d2b",
   "metadata": {},
   "outputs": [
    {
     "data": {
      "text/plain": [
       "0         [ImageGraphCut, __msgc_step3_discontinuity_loc...\n",
       "1                [ImageGraphCut, __multiscale_gc_lo2hi_run]\n",
       "2                [ImageGraphCut, __multiscale_gc_hi2lo_run]\n",
       "3              [ImageGraphCut, __ordered_values_by_indexes]\n",
       "4               [ImageGraphCut, __hi2lo_multiscale_indexes]\n",
       "                                ...                        \n",
       "412173                                   [Class, instances]\n",
       "412174                                  [Class, subclasses]\n",
       "412175                                [Class, superclasses]\n",
       "412176                            [Class, message_handlers]\n",
       "412177                                    [Class, undefine]\n",
       "Name: func_name, Length: 412178, dtype: object"
      ]
     },
     "execution_count": 53,
     "metadata": {},
     "output_type": "execute_result"
    }
   ],
   "source": [
    "test"
   ]
  },
  {
   "cell_type": "code",
   "execution_count": 47,
   "id": "a0f0b514",
   "metadata": {},
   "outputs": [
    {
     "data": {
      "text/plain": [
       "16                                       [resize_to_shape]\n",
       "17                                             [seed_zoom]\n",
       "18                                         [zoom_to_shape]\n",
       "19                                                  [crop]\n",
       "20                                         [combinecrinfo]\n",
       "                                ...                       \n",
       "412123                             [matrixToMathTransform]\n",
       "412124                             [mathTransformToMatrix]\n",
       "412125               [_linearInterpolationTransformMatrix]\n",
       "412126        [_polarDecomposeInterpolationTransformation]\n",
       "412127    [_mathPolarDecomposeInterpolationTransformation]\n",
       "Name: func_name, Length: 156852, dtype: object"
      ]
     },
     "execution_count": 47,
     "metadata": {},
     "output_type": "execute_result"
    }
   ],
   "source": [
    "test[test.str.len() == 1]"
   ]
  },
  {
   "cell_type": "code",
   "execution_count": 48,
   "id": "0443f30a",
   "metadata": {},
   "outputs": [
    {
     "data": {
      "text/plain": [
       "0         [ImageGraphCut, __msgc_step3_discontinuity_loc...\n",
       "1                [ImageGraphCut, __multiscale_gc_lo2hi_run]\n",
       "2                [ImageGraphCut, __multiscale_gc_hi2lo_run]\n",
       "3              [ImageGraphCut, __ordered_values_by_indexes]\n",
       "4               [ImageGraphCut, __hi2lo_multiscale_indexes]\n",
       "                                ...                        \n",
       "412173                                   [Class, instances]\n",
       "412174                                  [Class, subclasses]\n",
       "412175                                [Class, superclasses]\n",
       "412176                            [Class, message_handlers]\n",
       "412177                                    [Class, undefine]\n",
       "Name: func_name, Length: 255324, dtype: object"
      ]
     },
     "execution_count": 48,
     "metadata": {},
     "output_type": "execute_result"
    }
   ],
   "source": [
    "test[test.str.len() == 2]"
   ]
  },
  {
   "cell_type": "code",
   "execution_count": 57,
   "id": "8d218e6a",
   "metadata": {},
   "outputs": [
    {
     "data": {
      "text/plain": [
       "332897    NaN\n",
       "396027    NaN\n",
       "Name: func_name, dtype: object"
      ]
     },
     "execution_count": 57,
     "metadata": {},
     "output_type": "execute_result"
    }
   ],
   "source": [
    "test[(test.str.len() != 1) & (test.str.len() != 2)]"
   ]
  },
  {
   "cell_type": "code",
   "execution_count": 59,
   "id": "1599e07a",
   "metadata": {},
   "outputs": [
    {
     "data": {
      "text/plain": [
       "nan"
      ]
     },
     "execution_count": 59,
     "metadata": {},
     "output_type": "execute_result"
    }
   ],
   "source": [
    "train_py.loc[332897, 'func_name']"
   ]
  },
  {
   "cell_type": "code",
   "execution_count": 90,
   "id": "c5484a31",
   "metadata": {},
   "outputs": [
    {
     "data": {
      "text/plain": [
       "nan"
      ]
     },
     "execution_count": 90,
     "metadata": {},
     "output_type": "execute_result"
    }
   ],
   "source": [
    "train_py.loc[396027, 'func_name']"
   ]
  },
  {
   "cell_type": "markdown",
   "id": "ccc70bfd",
   "metadata": {},
   "source": [
    "#### Preprocess"
   ]
  },
  {
   "cell_type": "code",
   "execution_count": 61,
   "id": "e0764d0d",
   "metadata": {},
   "outputs": [
    {
     "data": {
      "text/plain": [
       "0    [ImageGraphCut, __msgc_step3_discontinuity_loc...\n",
       "1           [ImageGraphCut, __multiscale_gc_lo2hi_run]\n",
       "2           [ImageGraphCut, __multiscale_gc_hi2lo_run]\n",
       "3         [ImageGraphCut, __ordered_values_by_indexes]\n",
       "4          [ImageGraphCut, __hi2lo_multiscale_indexes]\n",
       "Name: func_name, dtype: object"
      ]
     },
     "execution_count": 61,
     "metadata": {},
     "output_type": "execute_result"
    }
   ],
   "source": [
    "split_func_name = train_py['func_name'].str.split('.')\n",
    "split_func_name.head()"
   ]
  },
  {
   "cell_type": "code",
   "execution_count": 99,
   "id": "95f3f28f",
   "metadata": {},
   "outputs": [],
   "source": [
    "def camel_case_to_underscores(func_name):\n",
    "    try:\n",
    "        if len(func_name) == 1:\n",
    "            return snakecase.convert(func_name[0])\n",
    "        elif len(func_name) == 2:\n",
    "            return snakecase.convert(func_name[1])\n",
    "    except:\n",
    "        return ''"
   ]
  },
  {
   "cell_type": "code",
   "execution_count": 109,
   "id": "f305e103",
   "metadata": {},
   "outputs": [],
   "source": [
    "preprocess_camel_case = split_func_name.apply(camel_case_to_underscores)\n",
    "preprocess_underscores = preprocess_camel_case.str.replace('_', ' ').str.strip()"
   ]
  },
  {
   "cell_type": "code",
   "execution_count": 110,
   "id": "57471fbd",
   "metadata": {},
   "outputs": [
    {
     "data": {
      "text/plain": [
       "0    msgc step3 discontinuity localization\n",
       "1                  multiscale gc lo2hi run\n",
       "2                  multiscale gc hi2lo run\n",
       "3                ordered values by indexes\n",
       "4                 hi2lo multiscale indexes\n",
       "Name: func_name, dtype: object"
      ]
     },
     "execution_count": 110,
     "metadata": {},
     "output_type": "execute_result"
    }
   ],
   "source": [
    "preprocess_underscores.head()"
   ]
  },
  {
   "cell_type": "code",
   "execution_count": 116,
   "id": "d5823436",
   "metadata": {},
   "outputs": [],
   "source": [
    "preprocess_doc = preprocess_underscores + ' ' + train_py['func_documentation_string']"
   ]
  },
  {
   "cell_type": "code",
   "execution_count": 118,
   "id": "3414748a",
   "metadata": {},
   "outputs": [],
   "source": [
    "# preprocess_doc_emb = model.encode(preprocess_doc, convert_to_tensor=True)"
   ]
  },
  {
   "cell_type": "code",
   "execution_count": 119,
   "id": "11a89aa8",
   "metadata": {},
   "outputs": [],
   "source": [
    "# pickle preprocess_doc_emb\n",
    "# with open('preprocess_func_name.npy', 'wb') as f:\n",
    "#     np.save(f, preprocess_doc_emb.to('cpu').numpy())"
   ]
  },
  {
   "cell_type": "code",
   "execution_count": 120,
   "id": "0d33d6ca",
   "metadata": {},
   "outputs": [],
   "source": [
    "preprocess_doc_emb = np.load('preprocess_func_name.npy')"
   ]
  },
  {
   "cell_type": "code",
   "execution_count": 121,
   "id": "76a581a2",
   "metadata": {},
   "outputs": [
    {
     "data": {
      "text/plain": [
       "array([[ 0.0166563 , -0.03803704,  0.05928445, ..., -0.10417175,\n",
       "        -0.08774463, -0.02464951],\n",
       "       [-0.00755583,  0.01133708,  0.04043078, ..., -0.04562359,\n",
       "        -0.10486861, -0.04952933],\n",
       "       [ 0.00418711,  0.02655804,  0.02180671, ..., -0.07021855,\n",
       "        -0.0976972 , -0.0497792 ],\n",
       "       ...,\n",
       "       [-0.11239953,  0.02397031,  0.01646855, ...,  0.06840994,\n",
       "         0.02486667,  0.03715625],\n",
       "       [ 0.03864758,  0.01578593,  0.03447834, ...,  0.0431488 ,\n",
       "         0.01029573, -0.00725849],\n",
       "       [-0.07235931,  0.05771292, -0.02917554, ..., -0.00428305,\n",
       "         0.04437316,  0.0254098 ]], dtype=float32)"
      ]
     },
     "execution_count": 121,
     "metadata": {},
     "output_type": "execute_result"
    }
   ],
   "source": [
    "preprocess_doc_emb"
   ]
  },
  {
   "cell_type": "code",
   "execution_count": 122,
   "id": "2d7d2253",
   "metadata": {},
   "outputs": [],
   "source": [
    "preprocess_results = to_evaluate(preprocess_doc, preprocess_doc_emb)"
   ]
  },
  {
   "cell_type": "code",
   "execution_count": 124,
   "id": "cac298e3",
   "metadata": {},
   "outputs": [
    {
     "data": {
      "text/html": [
       "<div>\n",
       "<style scoped>\n",
       "    .dataframe tbody tr th:only-of-type {\n",
       "        vertical-align: middle;\n",
       "    }\n",
       "\n",
       "    .dataframe tbody tr th {\n",
       "        vertical-align: top;\n",
       "    }\n",
       "\n",
       "    .dataframe thead th {\n",
       "        text-align: right;\n",
       "    }\n",
       "</style>\n",
       "<table border=\"1\" class=\"dataframe\">\n",
       "  <thead>\n",
       "    <tr style=\"text-align: right;\">\n",
       "      <th></th>\n",
       "      <th>language</th>\n",
       "      <th>query</th>\n",
       "      <th>url</th>\n",
       "    </tr>\n",
       "  </thead>\n",
       "  <tbody>\n",
       "    <tr>\n",
       "      <th>0</th>\n",
       "      <td>Python</td>\n",
       "      <td>convert int to string</td>\n",
       "      <td>https://github.com/Gandi/gandi.cli/blob/6ee5b8...</td>\n",
       "    </tr>\n",
       "    <tr>\n",
       "      <th>1</th>\n",
       "      <td>Python</td>\n",
       "      <td>convert int to string</td>\n",
       "      <td>https://github.com/rootpy/rootpy/blob/3926935e...</td>\n",
       "    </tr>\n",
       "    <tr>\n",
       "      <th>2</th>\n",
       "      <td>Python</td>\n",
       "      <td>convert int to string</td>\n",
       "      <td>https://github.com/Yelp/kafka-utils/blob/cdb4d...</td>\n",
       "    </tr>\n",
       "    <tr>\n",
       "      <th>3</th>\n",
       "      <td>Python</td>\n",
       "      <td>convert int to string</td>\n",
       "      <td>https://github.com/gabrielfalcao/dominic/blob/...</td>\n",
       "    </tr>\n",
       "    <tr>\n",
       "      <th>4</th>\n",
       "      <td>Python</td>\n",
       "      <td>convert int to string</td>\n",
       "      <td>https://github.com/mdsol/rwslib/blob/1a86bc072...</td>\n",
       "    </tr>\n",
       "  </tbody>\n",
       "</table>\n",
       "</div>"
      ],
      "text/plain": [
       "  language                  query  \\\n",
       "0   Python  convert int to string   \n",
       "1   Python  convert int to string   \n",
       "2   Python  convert int to string   \n",
       "3   Python  convert int to string   \n",
       "4   Python  convert int to string   \n",
       "\n",
       "                                                 url  \n",
       "0  https://github.com/Gandi/gandi.cli/blob/6ee5b8...  \n",
       "1  https://github.com/rootpy/rootpy/blob/3926935e...  \n",
       "2  https://github.com/Yelp/kafka-utils/blob/cdb4d...  \n",
       "3  https://github.com/gabrielfalcao/dominic/blob/...  \n",
       "4  https://github.com/mdsol/rwslib/blob/1a86bc072...  "
      ]
     },
     "execution_count": 124,
     "metadata": {},
     "output_type": "execute_result"
    }
   ],
   "source": [
    "preprocess_results.head()"
   ]
  },
  {
   "cell_type": "code",
   "execution_count": 125,
   "id": "30e203fc",
   "metadata": {},
   "outputs": [],
   "source": [
    "# preprocess_results.to_csv('preprocess_eval_results.csv')"
   ]
  },
  {
   "cell_type": "markdown",
   "id": "46ff4a2d",
   "metadata": {},
   "source": [
    "#### Final evaluation (only on documentation as a feature)\n",
    "NDCG Within: 0.225<br>\n",
    "NDCG All: 0.170<br>\n",
    "* lower :,( than if not preprocessed"
   ]
  },
  {
   "cell_type": "code",
   "execution_count": null,
   "id": "5555da97",
   "metadata": {},
   "outputs": [],
   "source": []
  },
  {
   "cell_type": "code",
   "execution_count": null,
   "id": "8ddbd6f3",
   "metadata": {},
   "outputs": [],
   "source": []
  },
  {
   "cell_type": "code",
   "execution_count": null,
   "id": "94a0dfa9",
   "metadata": {},
   "outputs": [],
   "source": []
  }
 ],
 "metadata": {
  "kernelspec": {
   "display_name": "Python 3 (ipykernel)",
   "language": "python",
   "name": "python3"
  },
  "language_info": {
   "codemirror_mode": {
    "name": "ipython",
    "version": 3
   },
   "file_extension": ".py",
   "mimetype": "text/x-python",
   "name": "python",
   "nbconvert_exporter": "python",
   "pygments_lexer": "ipython3",
   "version": "3.9.5"
  }
 },
 "nbformat": 4,
 "nbformat_minor": 5
}
