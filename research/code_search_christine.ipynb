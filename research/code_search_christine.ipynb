{
 "cells": [
  {
   "cell_type": "code",
   "execution_count": 1,
   "id": "f705c645",
   "metadata": {
    "scrolled": true
   },
   "outputs": [],
   "source": [
    "from datasets import load_dataset\n"
   ]
  },
  {
   "cell_type": "code",
   "execution_count": 2,
   "id": "84db6f0a",
   "metadata": {},
   "outputs": [],
   "source": [
    "import pandas as pd\n",
    "import numpy as np\n",
    "import re\n",
    "import math\n",
    "import nltk\n",
    "from nltk.corpus import stopwords\n",
    "from nltk.tokenize import word_tokenize\n",
    "import string\n",
    "from nltk.stem import WordNetLemmatizer"
   ]
  },
  {
   "cell_type": "code",
   "execution_count": 3,
   "id": "02d6825b",
   "metadata": {},
   "outputs": [],
   "source": [
    "from sentence_transformers import SentenceTransformer, util\n",
    "import torch"
   ]
  },
  {
   "cell_type": "code",
   "execution_count": 4,
   "id": "563f1dc2",
   "metadata": {},
   "outputs": [],
   "source": [
    "from scipy.spatial.distance import cdist\n",
    "from sklearn.metrics import ndcg_score"
   ]
  },
  {
   "cell_type": "code",
   "execution_count": 5,
   "id": "4d518ddf",
   "metadata": {},
   "outputs": [
    {
     "name": "stderr",
     "output_type": "stream",
     "text": [
      "Found cached dataset code_search_net (/Users/christinexu/.cache/huggingface/datasets/code_search_net/ruby/1.0.0/8f2524e6b62f65af5f5d65c53715c654db7b08dc93e0b7bcce2ab2f286a75be1)\n"
     ]
    },
    {
     "data": {
      "application/vnd.jupyter.widget-view+json": {
       "model_id": "7235bb8bd6a74f3ea98558df1b286eee",
       "version_major": 2,
       "version_minor": 0
      },
      "text/plain": [
       "  0%|          | 0/3 [00:00<?, ?it/s]"
      ]
     },
     "metadata": {},
     "output_type": "display_data"
    },
    {
     "name": "stderr",
     "output_type": "stream",
     "text": [
      "Found cached dataset code_search_net (/Users/christinexu/.cache/huggingface/datasets/code_search_net/go/1.0.0/8f2524e6b62f65af5f5d65c53715c654db7b08dc93e0b7bcce2ab2f286a75be1)\n"
     ]
    },
    {
     "data": {
      "application/vnd.jupyter.widget-view+json": {
       "model_id": "d573f9d193fe4678a5a9a2dd8ed7c4cd",
       "version_major": 2,
       "version_minor": 0
      },
      "text/plain": [
       "  0%|          | 0/3 [00:00<?, ?it/s]"
      ]
     },
     "metadata": {},
     "output_type": "display_data"
    }
   ],
   "source": [
    "dataset_ruby = load_dataset(\"code_search_net\", \"ruby\")\n",
    "dataset_go = load_dataset(\"code_search_net\", \"go\")"
   ]
  },
  {
   "cell_type": "code",
   "execution_count": 6,
   "id": "d034647e",
   "metadata": {},
   "outputs": [
    {
     "ename": "NameError",
     "evalue": "name 'dataset' is not defined",
     "output_type": "error",
     "traceback": [
      "\u001b[0;31m---------------------------------------------------------------------------\u001b[0m",
      "\u001b[0;31mNameError\u001b[0m                                 Traceback (most recent call last)",
      "\u001b[0;32m/var/folders/m1/rwxd3g8d2zl60slvhbm1p89w0000gn/T/ipykernel_11563/1863507473.py\u001b[0m in \u001b[0;36m<module>\u001b[0;34m\u001b[0m\n\u001b[0;32m----> 1\u001b[0;31m \u001b[0mtype\u001b[0m\u001b[0;34m(\u001b[0m\u001b[0mdataset\u001b[0m\u001b[0;34m)\u001b[0m\u001b[0;34m\u001b[0m\u001b[0;34m\u001b[0m\u001b[0m\n\u001b[0m",
      "\u001b[0;31mNameError\u001b[0m: name 'dataset' is not defined"
     ]
    }
   ],
   "source": [
    "# type(dataset)"
   ]
  },
  {
   "cell_type": "code",
   "execution_count": 7,
   "id": "36d326cf",
   "metadata": {
    "scrolled": true
   },
   "outputs": [],
   "source": [
    "ground_truth = pd.read_csv('annotationStore.csv')\n",
    "gt_ruby = ground_truth[ground_truth['Language'] == 'Ruby']\n",
    "gt_go = ground_truth[ground_truth['Language'] == 'Go']"
   ]
  },
  {
   "cell_type": "code",
   "execution_count": 8,
   "id": "c3b2b4d3",
   "metadata": {},
   "outputs": [
    {
     "data": {
      "text/html": [
       "<div>\n",
       "<style scoped>\n",
       "    .dataframe tbody tr th:only-of-type {\n",
       "        vertical-align: middle;\n",
       "    }\n",
       "\n",
       "    .dataframe tbody tr th {\n",
       "        vertical-align: top;\n",
       "    }\n",
       "\n",
       "    .dataframe thead th {\n",
       "        text-align: right;\n",
       "    }\n",
       "</style>\n",
       "<table border=\"1\" class=\"dataframe\">\n",
       "  <thead>\n",
       "    <tr style=\"text-align: right;\">\n",
       "      <th></th>\n",
       "      <th>repository_name</th>\n",
       "      <th>func_path_in_repository</th>\n",
       "      <th>func_name</th>\n",
       "      <th>whole_func_string</th>\n",
       "      <th>language</th>\n",
       "      <th>func_code_string</th>\n",
       "      <th>func_code_tokens</th>\n",
       "      <th>func_documentation_string</th>\n",
       "      <th>func_documentation_tokens</th>\n",
       "      <th>split_name</th>\n",
       "      <th>func_code_url</th>\n",
       "    </tr>\n",
       "  </thead>\n",
       "  <tbody>\n",
       "    <tr>\n",
       "      <th>0</th>\n",
       "      <td>aws/aws-sdk-go</td>\n",
       "      <td>service/alexaforbusiness/api.go</td>\n",
       "      <td>Validate</td>\n",
       "      <td>func (s *UpdateSkillGroupInput) Validate() err...</td>\n",
       "      <td>go</td>\n",
       "      <td>func (s *UpdateSkillGroupInput) Validate() err...</td>\n",
       "      <td>[func, (, s, *, UpdateSkillGroupInput, ), Vali...</td>\n",
       "      <td>// Validate inspects the fields of the type to...</td>\n",
       "      <td>[Validate, inspects, the, fields, of, the, typ...</td>\n",
       "      <td>train</td>\n",
       "      <td>https://github.com/aws/aws-sdk-go/blob/6c40606...</td>\n",
       "    </tr>\n",
       "    <tr>\n",
       "      <th>1</th>\n",
       "      <td>aws/aws-sdk-go</td>\n",
       "      <td>service/alexaforbusiness/api.go</td>\n",
       "      <td>SetDescription</td>\n",
       "      <td>func (s *UpdateSkillGroupInput) SetDescription...</td>\n",
       "      <td>go</td>\n",
       "      <td>func (s *UpdateSkillGroupInput) SetDescription...</td>\n",
       "      <td>[func, (, s, *, UpdateSkillGroupInput, ), SetD...</td>\n",
       "      <td>// SetDescription sets the Description field's...</td>\n",
       "      <td>[SetDescription, sets, the, Description, field...</td>\n",
       "      <td>train</td>\n",
       "      <td>https://github.com/aws/aws-sdk-go/blob/6c40606...</td>\n",
       "    </tr>\n",
       "    <tr>\n",
       "      <th>2</th>\n",
       "      <td>aws/aws-sdk-go</td>\n",
       "      <td>service/alexaforbusiness/api.go</td>\n",
       "      <td>SetSkillGroupArn</td>\n",
       "      <td>func (s *UpdateSkillGroupInput) SetSkillGroupA...</td>\n",
       "      <td>go</td>\n",
       "      <td>func (s *UpdateSkillGroupInput) SetSkillGroupA...</td>\n",
       "      <td>[func, (, s, *, UpdateSkillGroupInput, ), SetS...</td>\n",
       "      <td>// SetSkillGroupArn sets the SkillGroupArn fie...</td>\n",
       "      <td>[SetSkillGroupArn, sets, the, SkillGroupArn, f...</td>\n",
       "      <td>train</td>\n",
       "      <td>https://github.com/aws/aws-sdk-go/blob/6c40606...</td>\n",
       "    </tr>\n",
       "    <tr>\n",
       "      <th>3</th>\n",
       "      <td>aws/aws-sdk-go</td>\n",
       "      <td>service/alexaforbusiness/api.go</td>\n",
       "      <td>SetSkillGroupName</td>\n",
       "      <td>func (s *UpdateSkillGroupInput) SetSkillGroupN...</td>\n",
       "      <td>go</td>\n",
       "      <td>func (s *UpdateSkillGroupInput) SetSkillGroupN...</td>\n",
       "      <td>[func, (, s, *, UpdateSkillGroupInput, ), SetS...</td>\n",
       "      <td>// SetSkillGroupName sets the SkillGroupName f...</td>\n",
       "      <td>[SetSkillGroupName, sets, the, SkillGroupName,...</td>\n",
       "      <td>train</td>\n",
       "      <td>https://github.com/aws/aws-sdk-go/blob/6c40606...</td>\n",
       "    </tr>\n",
       "    <tr>\n",
       "      <th>4</th>\n",
       "      <td>aws/aws-sdk-go</td>\n",
       "      <td>service/alexaforbusiness/api.go</td>\n",
       "      <td>SetEmail</td>\n",
       "      <td>func (s *UserData) SetEmail(v string) *UserDat...</td>\n",
       "      <td>go</td>\n",
       "      <td>func (s *UserData) SetEmail(v string) *UserDat...</td>\n",
       "      <td>[func, (, s, *, UserData, ), SetEmail, (, v, s...</td>\n",
       "      <td>// SetEmail sets the Email field's value.</td>\n",
       "      <td>[SetEmail, sets, the, Email, field, s, value, .]</td>\n",
       "      <td>train</td>\n",
       "      <td>https://github.com/aws/aws-sdk-go/blob/6c40606...</td>\n",
       "    </tr>\n",
       "  </tbody>\n",
       "</table>\n",
       "</div>"
      ],
      "text/plain": [
       "  repository_name          func_path_in_repository          func_name  \\\n",
       "0  aws/aws-sdk-go  service/alexaforbusiness/api.go           Validate   \n",
       "1  aws/aws-sdk-go  service/alexaforbusiness/api.go     SetDescription   \n",
       "2  aws/aws-sdk-go  service/alexaforbusiness/api.go   SetSkillGroupArn   \n",
       "3  aws/aws-sdk-go  service/alexaforbusiness/api.go  SetSkillGroupName   \n",
       "4  aws/aws-sdk-go  service/alexaforbusiness/api.go           SetEmail   \n",
       "\n",
       "                                   whole_func_string language  \\\n",
       "0  func (s *UpdateSkillGroupInput) Validate() err...       go   \n",
       "1  func (s *UpdateSkillGroupInput) SetDescription...       go   \n",
       "2  func (s *UpdateSkillGroupInput) SetSkillGroupA...       go   \n",
       "3  func (s *UpdateSkillGroupInput) SetSkillGroupN...       go   \n",
       "4  func (s *UserData) SetEmail(v string) *UserDat...       go   \n",
       "\n",
       "                                    func_code_string  \\\n",
       "0  func (s *UpdateSkillGroupInput) Validate() err...   \n",
       "1  func (s *UpdateSkillGroupInput) SetDescription...   \n",
       "2  func (s *UpdateSkillGroupInput) SetSkillGroupA...   \n",
       "3  func (s *UpdateSkillGroupInput) SetSkillGroupN...   \n",
       "4  func (s *UserData) SetEmail(v string) *UserDat...   \n",
       "\n",
       "                                    func_code_tokens  \\\n",
       "0  [func, (, s, *, UpdateSkillGroupInput, ), Vali...   \n",
       "1  [func, (, s, *, UpdateSkillGroupInput, ), SetD...   \n",
       "2  [func, (, s, *, UpdateSkillGroupInput, ), SetS...   \n",
       "3  [func, (, s, *, UpdateSkillGroupInput, ), SetS...   \n",
       "4  [func, (, s, *, UserData, ), SetEmail, (, v, s...   \n",
       "\n",
       "                           func_documentation_string  \\\n",
       "0  // Validate inspects the fields of the type to...   \n",
       "1  // SetDescription sets the Description field's...   \n",
       "2  // SetSkillGroupArn sets the SkillGroupArn fie...   \n",
       "3  // SetSkillGroupName sets the SkillGroupName f...   \n",
       "4          // SetEmail sets the Email field's value.   \n",
       "\n",
       "                           func_documentation_tokens split_name  \\\n",
       "0  [Validate, inspects, the, fields, of, the, typ...      train   \n",
       "1  [SetDescription, sets, the, Description, field...      train   \n",
       "2  [SetSkillGroupArn, sets, the, SkillGroupArn, f...      train   \n",
       "3  [SetSkillGroupName, sets, the, SkillGroupName,...      train   \n",
       "4   [SetEmail, sets, the, Email, field, s, value, .]      train   \n",
       "\n",
       "                                       func_code_url  \n",
       "0  https://github.com/aws/aws-sdk-go/blob/6c40606...  \n",
       "1  https://github.com/aws/aws-sdk-go/blob/6c40606...  \n",
       "2  https://github.com/aws/aws-sdk-go/blob/6c40606...  \n",
       "3  https://github.com/aws/aws-sdk-go/blob/6c40606...  \n",
       "4  https://github.com/aws/aws-sdk-go/blob/6c40606...  "
      ]
     },
     "execution_count": 8,
     "metadata": {},
     "output_type": "execute_result"
    }
   ],
   "source": [
    "train_go = pd.DataFrame(dataset_go['train'])\n",
    "train_go.head()"
   ]
  },
  {
   "cell_type": "code",
   "execution_count": 9,
   "id": "cc7319aa",
   "metadata": {},
   "outputs": [],
   "source": [
    "train_ruby = pd.DataFrame(dataset_ruby['train'])"
   ]
  },
  {
   "cell_type": "code",
   "execution_count": 10,
   "id": "2b64f53f",
   "metadata": {
    "scrolled": true
   },
   "outputs": [
    {
     "data": {
      "text/plain": [
       "(109, 16)"
      ]
     },
     "execution_count": 10,
     "metadata": {},
     "output_type": "execute_result"
    }
   ],
   "source": [
    "merged_ruby = gt_ruby.merge(train_ruby, left_on = 'GitHubUrl', right_on = 'func_code_url')\n",
    "merged_ruby.shape"
   ]
  },
  {
   "cell_type": "code",
   "execution_count": 11,
   "id": "5732de7c",
   "metadata": {},
   "outputs": [
    {
     "data": {
      "text/plain": [
       "(76, 16)"
      ]
     },
     "execution_count": 11,
     "metadata": {},
     "output_type": "execute_result"
    }
   ],
   "source": [
    "merged_go = gt_go.merge(train_go, left_on = 'GitHubUrl', right_on = 'func_code_url')\n",
    "merged_go.shape"
   ]
  },
  {
   "cell_type": "markdown",
   "id": "d3b9d783",
   "metadata": {},
   "source": [
    "# EDA of ground truth and Ruby/Go dataset"
   ]
  },
  {
   "cell_type": "code",
   "execution_count": 12,
   "id": "1e3e4910",
   "metadata": {},
   "outputs": [
    {
     "data": {
      "text/plain": [
       "'https://github.com/khiemns54/sp2db/blob/76c78df07ea19d6f1b5ff2e883ae206a0e94de27/lib/sp2db/base_table.rb#L105-L110'"
      ]
     },
     "execution_count": 12,
     "metadata": {},
     "output_type": "execute_result"
    }
   ],
   "source": [
    "gt_ruby[gt_ruby['Query'] == 'write csv']['GitHubUrl'].loc[4001]"
   ]
  },
  {
   "cell_type": "code",
   "execution_count": 13,
   "id": "5d96cfda",
   "metadata": {
    "scrolled": true
   },
   "outputs": [
    {
     "ename": "NameError",
     "evalue": "name 'train_df' is not defined",
     "output_type": "error",
     "traceback": [
      "\u001b[0;31m---------------------------------------------------------------------------\u001b[0m",
      "\u001b[0;31mNameError\u001b[0m                                 Traceback (most recent call last)",
      "\u001b[0;32m/var/folders/m1/rwxd3g8d2zl60slvhbm1p89w0000gn/T/ipykernel_11563/2804120662.py\u001b[0m in \u001b[0;36m<module>\u001b[0;34m\u001b[0m\n\u001b[0;32m----> 1\u001b[0;31m \u001b[0mtrain_df\u001b[0m\u001b[0;34m.\u001b[0m\u001b[0mhead\u001b[0m\u001b[0;34m(\u001b[0m\u001b[0;34m)\u001b[0m\u001b[0;34m\u001b[0m\u001b[0;34m\u001b[0m\u001b[0m\n\u001b[0m",
      "\u001b[0;31mNameError\u001b[0m: name 'train_df' is not defined"
     ]
    }
   ],
   "source": [
    "train_df.head()"
   ]
  },
  {
   "cell_type": "code",
   "execution_count": 14,
   "id": "807db1db",
   "metadata": {},
   "outputs": [],
   "source": [
    "target = 'https://github.com/angelim/rails_redshift_replicator/blob/823f6da36f43a39f340a3ca7eb159df58a86766d/lib/rails_redshift_replicator/file_manager.rb#L49-L51'"
   ]
  },
  {
   "cell_type": "code",
   "execution_count": 15,
   "id": "85315d59",
   "metadata": {},
   "outputs": [
    {
     "data": {
      "text/plain": [
       "False"
      ]
     },
     "execution_count": 15,
     "metadata": {},
     "output_type": "execute_result"
    }
   ],
   "source": [
    "target in list(gt_ruby['GitHubUrl'])"
   ]
  },
  {
   "cell_type": "code",
   "execution_count": 16,
   "id": "3217913b",
   "metadata": {},
   "outputs": [],
   "source": [
    "# merged = pd.concat([merged_ruby, merged_go], ignore_index=True)\n",
    "merged = merged_ruby"
   ]
  },
  {
   "cell_type": "code",
   "execution_count": null,
   "id": "baa91b42",
   "metadata": {},
   "outputs": [],
   "source": []
  },
  {
   "cell_type": "markdown",
   "id": "11ae547d",
   "metadata": {},
   "source": [
    "## Directly throw everything in\n",
    "https://huggingface.co/flax-sentence-embeddings/st-codesearch-distilroberta-base"
   ]
  },
  {
   "cell_type": "code",
   "execution_count": 17,
   "id": "8b9b8a33",
   "metadata": {},
   "outputs": [],
   "source": [
    "# model_code = SentenceTransformer(\"flax-sentence-embeddings/st-codesearch-distilroberta-base\")\n",
    "model_code = SentenceTransformer(\"all-MiniLM-L6-v2\")\n",
    "model_doc = SentenceTransformer('all-MiniLM-L6-v2')\n",
    "model_idt = SentenceTransformer('all-MiniLM-L6-v2')"
   ]
  },
  {
   "cell_type": "code",
   "execution_count": 18,
   "id": "ce663219",
   "metadata": {},
   "outputs": [],
   "source": [
    "# sample_code = dataset['train'][:500]['whole_func_string']\n",
    "# sample_idt = dataset['train'][:500]['func_name']\n",
    "# sample_doc = dataset['train'][:500]['func_documentation_string']\n",
    "sample_code = merged['whole_func_string']\n",
    "sample_idt = merged['func_name']\n",
    "sample_doc = merged['func_documentation_string']"
   ]
  },
  {
   "cell_type": "code",
   "execution_count": 19,
   "id": "45f7c85f",
   "metadata": {},
   "outputs": [],
   "source": [
    "# are there labeled dataset and sample queries?\n",
    "# print(dataset['train'][20]['func_code_string'])"
   ]
  },
  {
   "cell_type": "code",
   "execution_count": 20,
   "id": "95beca0c",
   "metadata": {},
   "outputs": [],
   "source": [
    "# idx = 0\n"
   ]
  },
  {
   "cell_type": "code",
   "execution_count": 21,
   "id": "2e6e2220",
   "metadata": {},
   "outputs": [],
   "source": [
    "# # (language, identifier, code)\n",
    "# (dataset['train'][idx]['language'], dataset['train'][idx]['func_name'] + dataset['train'][idx]['func_documentation_string'], dataset['train'][idx]['func_code_string'])\n"
   ]
  },
  {
   "cell_type": "code",
   "execution_count": 22,
   "id": "fbef5aa4",
   "metadata": {},
   "outputs": [],
   "source": [
    "# class SemanticSearch:\n",
    "    \n",
    "#     def __init__(self, )"
   ]
  },
  {
   "cell_type": "code",
   "execution_count": 23,
   "id": "e3352643",
   "metadata": {},
   "outputs": [],
   "source": [
    "# def search(query, language):\n",
    "#     # if we want to match separately on fields(i.e. code and documentation/identifier)\n",
    "#     score_code = 0.0\n",
    "#     score_doc = 0.0\n",
    "#     score_idt = 0.0\n",
    "    \n",
    "# #     if language == \"python\":\n",
    "# #         ...\n",
    "    \n",
    "#     code_emb = model.encode(sample_train, convert_to_tensor=True)\n",
    "#     doc_emb = model.encode(sample_doc, convert_to_tensor=True)\n",
    "#     idt_emb = model.encode(sample_idt, convert_to_tensor=True)\n",
    "    "
   ]
  },
  {
   "cell_type": "code",
   "execution_count": 24,
   "id": "86b221c3",
   "metadata": {},
   "outputs": [],
   "source": [
    "code_emb = model_code.encode(sample_code, convert_to_tensor=True)\n",
    "doc_emb = model_doc.encode(sample_doc, convert_to_tensor=True)\n",
    "idt_emb = model_idt.encode(sample_idt, convert_to_tensor=True)"
   ]
  },
  {
   "cell_type": "code",
   "execution_count": 25,
   "id": "0eb516bc",
   "metadata": {},
   "outputs": [],
   "source": [
    "query = 'get name of enumerated value'"
   ]
  },
  {
   "cell_type": "markdown",
   "id": "bc4b7706",
   "metadata": {},
   "source": [
    "### doc embedding"
   ]
  },
  {
   "cell_type": "code",
   "execution_count": 43,
   "id": "8a884512",
   "metadata": {},
   "outputs": [
    {
     "name": "stdout",
     "output_type": "stream",
     "text": [
      "Cossim: 0.33\n",
      "Rank: 1\n",
      "https://github.com/garethlatwork/quickbase_client/blob/13d754de1f22a466806c5a0da74b0ded26c23f05/lib/QuickBaseClient.rb#L914-L938\n",
      "\n",
      "\n",
      "\n",
      "Cossim: 0.29\n",
      "Rank: 2\n",
      "https://github.com/dpla/KriKri/blob/0ac26e60ce1bba60caa40263a562796267cf833f/lib/krikri/harvesters/oai_harvester.rb#L159-L165\n",
      "\n",
      "\n",
      "\n",
      "Cossim: 0.28\n",
      "Rank: 3\n",
      "https://github.com/booqable/scoped_serializer/blob/fb163bbf61f54a5e8684e4aba3908592bdd986ac/lib/scoped_serializer/array_serializer.rb#L29-L39\n",
      "\n",
      "\n",
      "\n"
     ]
    },
    {
     "data": {
      "text/html": [
       "<div>\n",
       "<style scoped>\n",
       "    .dataframe tbody tr th:only-of-type {\n",
       "        vertical-align: middle;\n",
       "    }\n",
       "\n",
       "    .dataframe tbody tr th {\n",
       "        vertical-align: top;\n",
       "    }\n",
       "\n",
       "    .dataframe thead th {\n",
       "        text-align: right;\n",
       "    }\n",
       "</style>\n",
       "<table border=\"1\" class=\"dataframe\">\n",
       "  <thead>\n",
       "    <tr style=\"text-align: right;\">\n",
       "      <th></th>\n",
       "      <th>score</th>\n",
       "      <th>rank</th>\n",
       "      <th>url</th>\n",
       "    </tr>\n",
       "  </thead>\n",
       "  <tbody>\n",
       "    <tr>\n",
       "      <th>0</th>\n",
       "      <td>0.327444</td>\n",
       "      <td>1</td>\n",
       "      <td>https://github.com/garethlatwork/quickbase_cli...</td>\n",
       "    </tr>\n",
       "    <tr>\n",
       "      <th>1</th>\n",
       "      <td>0.285970</td>\n",
       "      <td>2</td>\n",
       "      <td>https://github.com/dpla/KriKri/blob/0ac26e60ce...</td>\n",
       "    </tr>\n",
       "    <tr>\n",
       "      <th>2</th>\n",
       "      <td>0.279068</td>\n",
       "      <td>3</td>\n",
       "      <td>https://github.com/booqable/scoped_serializer/...</td>\n",
       "    </tr>\n",
       "  </tbody>\n",
       "</table>\n",
       "</div>"
      ],
      "text/plain": [
       "      score  rank                                                url\n",
       "0  0.327444     1  https://github.com/garethlatwork/quickbase_cli...\n",
       "1  0.285970     2  https://github.com/dpla/KriKri/blob/0ac26e60ce...\n",
       "2  0.279068     3  https://github.com/booqable/scoped_serializer/..."
      ]
     },
     "execution_count": 43,
     "metadata": {},
     "output_type": "execute_result"
    }
   ],
   "source": [
    "que_doc_emb = model_doc.encode(query, convert_to_tensor=True)\n",
    "hits = util.semantic_search(que_doc_emb, doc_emb)[0]\n",
    "top_hits = hits[:3]\n",
    "# cdist_score = cdist(que_doc_emb, doc_emb)\n",
    "# top_hits = torch.topk(cdist_score, k=top_3)\n",
    "rank = 1\n",
    "que_doc_df = pd.DataFrame()\n",
    "que_doc_score = []\n",
    "que_doc_url = []\n",
    "que_doc_rank = []\n",
    "for top_hit in top_hits:\n",
    "    print(\"Cossim: {:.2f}\".format(top_hit['score']))\n",
    "    print(f\"Rank: {rank}\")\n",
    "    print(merged.iloc[top_hit['corpus_id']]['func_code_url'])\n",
    "    print(\"\\n\\n\")\n",
    "    \n",
    "    que_doc_score.append(top_hit['score'])\n",
    "    que_doc_url.append(merged.iloc[top_hit['corpus_id']]['func_code_url'])\n",
    "    que_doc_rank.append(rank)\n",
    "    rank += 1\n",
    "\n",
    "que_doc_df['score'] = que_doc_score\n",
    "que_doc_df['rank'] = que_doc_rank\n",
    "que_doc_df['url'] = que_doc_url\n",
    "que_doc_df"
   ]
  },
  {
   "cell_type": "markdown",
   "id": "6d7ec451",
   "metadata": {},
   "source": [
    "### code embedding"
   ]
  },
  {
   "cell_type": "code",
   "execution_count": 29,
   "id": "fc8c5d8a",
   "metadata": {},
   "outputs": [
    {
     "name": "stdout",
     "output_type": "stream",
     "text": [
      "Cossim: 0.49\n",
      "https://github.com/dpla/KriKri/blob/0ac26e60ce1bba60caa40263a562796267cf833f/lib/krikri/harvesters/oai_harvester.rb#L159-L165\n",
      "\n",
      "\n",
      "\n",
      "Cossim: 0.28\n",
      "https://github.com/opal/opal/blob/41aedc0fd62aab00d3c117ba0caf00206bedd981/opal/corelib/marshal/read_buffer.rb#L388-L407\n",
      "\n",
      "\n",
      "\n",
      "Cossim: 0.27\n",
      "https://github.com/robertwahler/win32-autogui/blob/f36dc7ed9d7389893b0960b2c5740338f0d38117/lib/win32/autogui/window.rb#L218-L223\n",
      "\n",
      "\n",
      "\n"
     ]
    }
   ],
   "source": [
    "que_code_emb = model_code.encode(query, convert_to_tensor=True)\n",
    "hits = util.semantic_search(que_code_emb, code_emb)[0]\n",
    "top_hits = hits[:3]\n",
    "\n",
    "for top_hit in top_hits:\n",
    "    print(\"Cossim: {:.2f}\".format(top_hit['score']))\n",
    "    print(merged.iloc[top_hit['corpus_id']]['func_code_url'])\n",
    "    print(\"\\n\\n\")"
   ]
  },
  {
   "cell_type": "code",
   "execution_count": null,
   "id": "4214b983",
   "metadata": {},
   "outputs": [],
   "source": []
  },
  {
   "cell_type": "code",
   "execution_count": null,
   "id": "650a7a98",
   "metadata": {},
   "outputs": [],
   "source": []
  },
  {
   "cell_type": "markdown",
   "id": "d9a763b0",
   "metadata": {},
   "source": [
    "### identifier embedding"
   ]
  },
  {
   "cell_type": "code",
   "execution_count": 30,
   "id": "00a07dce",
   "metadata": {},
   "outputs": [
    {
     "name": "stdout",
     "output_type": "stream",
     "text": [
      "Cossim: 0.32\n",
      "https://github.com/mdub/lazily/blob/8665e3532ea2d2ea3a41e6ec6a47088308979754/lib/lazily/filtering.rb#L63-L75\n",
      "\n",
      "\n",
      "\n",
      "Cossim: 0.29\n",
      "https://github.com/dpla/KriKri/blob/0ac26e60ce1bba60caa40263a562796267cf833f/lib/krikri/harvesters/oai_harvester.rb#L159-L165\n",
      "\n",
      "\n",
      "\n",
      "Cossim: 0.23\n",
      "https://github.com/mare-imbrium/canis/blob/8bce60ff9dad321e299a6124620deb4771740b0b/lib/canis/core/widgets/deprecated/rtextview.rb#L193-L198\n",
      "\n",
      "\n",
      "\n"
     ]
    }
   ],
   "source": [
    "que_idt_emb = model_idt.encode(query, convert_to_tensor=True)\n",
    "hits = util.semantic_search(que_idt_emb, idt_emb)[0]\n",
    "top_hits = hits[:3]\n",
    "for top_hit in top_hits:\n",
    "    print(\"Cossim: {:.2f}\".format(top_hit['score']))\n",
    "    print(merged.iloc[top_hit['corpus_id']]['func_code_url'])\n",
    "    print(\"\\n\\n\")"
   ]
  },
  {
   "cell_type": "code",
   "execution_count": null,
   "id": "1ad7bc75",
   "metadata": {},
   "outputs": [],
   "source": []
  },
  {
   "cell_type": "markdown",
   "id": "04f7b814",
   "metadata": {},
   "source": [
    "### Combined"
   ]
  },
  {
   "cell_type": "code",
   "execution_count": null,
   "id": "d96e9f9a",
   "metadata": {},
   "outputs": [],
   "source": [
    "# util.semantic_search(que_code_emb, code_emb)[0]['']"
   ]
  },
  {
   "cell_type": "code",
   "execution_count": null,
   "id": "770f7ae3",
   "metadata": {},
   "outputs": [],
   "source": [
    "# hits = 6 * util.semantic_search(que_code_emb, code_emb)[0] + 1* util.semantic_search(que_idt_emb, idt_emb)[0] + 3* util.semantic_search(que_doc_emb, doc_emb)[0]\n",
    "# top_hits = hits[:3]\n",
    "# for top_hit in top_hits:\n",
    "#     print(\"Cossim: {:.2f}\".format(top_hit['score']))\n",
    "#     print(sample_train[top_hit['corpus_id']])\n",
    "#     print(\"\\n\\n\")"
   ]
  },
  {
   "cell_type": "code",
   "execution_count": null,
   "id": "2a87759d",
   "metadata": {},
   "outputs": [],
   "source": [
    "# dataset['test'][0].keys()"
   ]
  },
  {
   "cell_type": "code",
   "execution_count": null,
   "id": "732f6e5e",
   "metadata": {},
   "outputs": [],
   "source": [
    "# code_emb = model.encode(sample_train, convert_to_tensor=True)"
   ]
  },
  {
   "cell_type": "code",
   "execution_count": null,
   "id": "9dcc8b8b",
   "metadata": {},
   "outputs": [],
   "source": [
    "# query = 'depth first search'"
   ]
  },
  {
   "cell_type": "code",
   "execution_count": null,
   "id": "0bc0dd96",
   "metadata": {},
   "outputs": [],
   "source": [
    "# query_emb = model.encode(query, convert_to_tensor=True)\n",
    "# hits = util.semantic_search(query_emb, code_emb)[0]\n",
    "# top_hits = hits[:3]\n",
    "\n",
    "# for top_hit in top_hits:\n",
    "#     print(\"Cossim: {:.2f}\".format(top_hit['score']))\n",
    "#     print(sample_train[top_hit['corpus_id']])\n",
    "#     print(\"\\n\\n\")"
   ]
  },
  {
   "cell_type": "code",
   "execution_count": null,
   "id": "310322bb",
   "metadata": {},
   "outputs": [],
   "source": []
  },
  {
   "cell_type": "markdown",
   "id": "dc7be1c8",
   "metadata": {},
   "source": [
    "## Evaluation (nDCG)\n",
    "- how to decide the \"correct\" rank? Do we have to run the whole train dataset on DSMLP and then follow the examples?\n",
    "- Relevance score? still use recipricol rank\n"
   ]
  },
  {
   "cell_type": "code",
   "execution_count": null,
   "id": "f5618144",
   "metadata": {},
   "outputs": [],
   "source": [
    "3,1,3\n",
    "true_relevance = np.asarray([[0.3,1,0.3, 0]])\n",
    "# we predict some scores (relevance) for the answers\n",
    "scores = np.asarray([[1,0.5,0.3, 0.25]])\n",
    "ndcg_score(true_relevance, scores)"
   ]
  },
  {
   "cell_type": "code",
   "execution_count": 49,
   "id": "aef3d5de",
   "metadata": {},
   "outputs": [
    {
     "data": {
      "text/html": [
       "<div>\n",
       "<style scoped>\n",
       "    .dataframe tbody tr th:only-of-type {\n",
       "        vertical-align: middle;\n",
       "    }\n",
       "\n",
       "    .dataframe tbody tr th {\n",
       "        vertical-align: top;\n",
       "    }\n",
       "\n",
       "    .dataframe thead th {\n",
       "        text-align: right;\n",
       "    }\n",
       "</style>\n",
       "<table border=\"1\" class=\"dataframe\">\n",
       "  <thead>\n",
       "    <tr style=\"text-align: right;\">\n",
       "      <th></th>\n",
       "      <th>Language</th>\n",
       "      <th>Query</th>\n",
       "      <th>GitHubUrl</th>\n",
       "      <th>Relevance</th>\n",
       "      <th>Notes</th>\n",
       "      <th>repository_name</th>\n",
       "      <th>func_path_in_repository</th>\n",
       "      <th>func_name</th>\n",
       "      <th>whole_func_string</th>\n",
       "      <th>language</th>\n",
       "      <th>func_code_string</th>\n",
       "      <th>func_code_tokens</th>\n",
       "      <th>func_documentation_string</th>\n",
       "      <th>func_documentation_tokens</th>\n",
       "      <th>split_name</th>\n",
       "      <th>func_code_url</th>\n",
       "    </tr>\n",
       "  </thead>\n",
       "  <tbody>\n",
       "    <tr>\n",
       "      <th>74</th>\n",
       "      <td>Ruby</td>\n",
       "      <td>get name of enumerated value</td>\n",
       "      <td>https://github.com/dpla/KriKri/blob/0ac26e60ce...</td>\n",
       "      <td>1</td>\n",
       "      <td>NaN</td>\n",
       "      <td>dpla/KriKri</td>\n",
       "      <td>lib/krikri/harvesters/oai_harvester.rb</td>\n",
       "      <td>Krikri::Harvesters.OAIHarvester.concat_enum</td>\n",
       "      <td>def concat_enum(enum_enum)\\n      Enumerator.n...</td>\n",
       "      <td>ruby</td>\n",
       "      <td>def concat_enum(enum_enum)\\n      Enumerator.n...</td>\n",
       "      <td>[def, concat_enum, (, enum_enum, ), Enumerator...</td>\n",
       "      <td>Concatinates two enumerators\\n @todo find a be...</td>\n",
       "      <td>[Concatinates, two, enumerators]</td>\n",
       "      <td>train</td>\n",
       "      <td>https://github.com/dpla/KriKri/blob/0ac26e60ce...</td>\n",
       "    </tr>\n",
       "  </tbody>\n",
       "</table>\n",
       "</div>"
      ],
      "text/plain": [
       "   Language                         Query  \\\n",
       "74     Ruby  get name of enumerated value   \n",
       "\n",
       "                                            GitHubUrl  Relevance Notes  \\\n",
       "74  https://github.com/dpla/KriKri/blob/0ac26e60ce...          1   NaN   \n",
       "\n",
       "   repository_name                 func_path_in_repository  \\\n",
       "74     dpla/KriKri  lib/krikri/harvesters/oai_harvester.rb   \n",
       "\n",
       "                                      func_name  \\\n",
       "74  Krikri::Harvesters.OAIHarvester.concat_enum   \n",
       "\n",
       "                                    whole_func_string language  \\\n",
       "74  def concat_enum(enum_enum)\\n      Enumerator.n...     ruby   \n",
       "\n",
       "                                     func_code_string  \\\n",
       "74  def concat_enum(enum_enum)\\n      Enumerator.n...   \n",
       "\n",
       "                                     func_code_tokens  \\\n",
       "74  [def, concat_enum, (, enum_enum, ), Enumerator...   \n",
       "\n",
       "                            func_documentation_string  \\\n",
       "74  Concatinates two enumerators\\n @todo find a be...   \n",
       "\n",
       "           func_documentation_tokens split_name  \\\n",
       "74  [Concatinates, two, enumerators]      train   \n",
       "\n",
       "                                        func_code_url  \n",
       "74  https://github.com/dpla/KriKri/blob/0ac26e60ce...  "
      ]
     },
     "execution_count": 49,
     "metadata": {},
     "output_type": "execute_result"
    }
   ],
   "source": [
    "target = merged[merged['Query'] == query]\n",
    "target"
   ]
  },
  {
   "cell_type": "code",
   "execution_count": 50,
   "id": "3f720d9a",
   "metadata": {},
   "outputs": [],
   "source": [
    "# gt_ruby[gt_ruby['Query'] == query]"
   ]
  },
  {
   "cell_type": "code",
   "execution_count": 45,
   "id": "0073f741",
   "metadata": {},
   "outputs": [],
   "source": [
    "final = target.merge(que_doc_df, left_on = 'GitHubUrl', right_on = 'url')"
   ]
  },
  {
   "cell_type": "code",
   "execution_count": 46,
   "id": "6e830e4b",
   "metadata": {},
   "outputs": [
    {
     "data": {
      "text/html": [
       "<div>\n",
       "<style scoped>\n",
       "    .dataframe tbody tr th:only-of-type {\n",
       "        vertical-align: middle;\n",
       "    }\n",
       "\n",
       "    .dataframe tbody tr th {\n",
       "        vertical-align: top;\n",
       "    }\n",
       "\n",
       "    .dataframe thead th {\n",
       "        text-align: right;\n",
       "    }\n",
       "</style>\n",
       "<table border=\"1\" class=\"dataframe\">\n",
       "  <thead>\n",
       "    <tr style=\"text-align: right;\">\n",
       "      <th></th>\n",
       "      <th>Language</th>\n",
       "      <th>Query</th>\n",
       "      <th>GitHubUrl</th>\n",
       "      <th>Relevance</th>\n",
       "      <th>Notes</th>\n",
       "      <th>repository_name</th>\n",
       "      <th>func_path_in_repository</th>\n",
       "      <th>func_name</th>\n",
       "      <th>whole_func_string</th>\n",
       "      <th>language</th>\n",
       "      <th>func_code_string</th>\n",
       "      <th>func_code_tokens</th>\n",
       "      <th>func_documentation_string</th>\n",
       "      <th>func_documentation_tokens</th>\n",
       "      <th>split_name</th>\n",
       "      <th>func_code_url</th>\n",
       "      <th>score</th>\n",
       "      <th>rank</th>\n",
       "      <th>url</th>\n",
       "    </tr>\n",
       "  </thead>\n",
       "  <tbody>\n",
       "    <tr>\n",
       "      <th>0</th>\n",
       "      <td>Ruby</td>\n",
       "      <td>get name of enumerated value</td>\n",
       "      <td>https://github.com/dpla/KriKri/blob/0ac26e60ce...</td>\n",
       "      <td>1</td>\n",
       "      <td>NaN</td>\n",
       "      <td>dpla/KriKri</td>\n",
       "      <td>lib/krikri/harvesters/oai_harvester.rb</td>\n",
       "      <td>Krikri::Harvesters.OAIHarvester.concat_enum</td>\n",
       "      <td>def concat_enum(enum_enum)\\n      Enumerator.n...</td>\n",
       "      <td>ruby</td>\n",
       "      <td>def concat_enum(enum_enum)\\n      Enumerator.n...</td>\n",
       "      <td>[def, concat_enum, (, enum_enum, ), Enumerator...</td>\n",
       "      <td>Concatinates two enumerators\\n @todo find a be...</td>\n",
       "      <td>[Concatinates, two, enumerators]</td>\n",
       "      <td>train</td>\n",
       "      <td>https://github.com/dpla/KriKri/blob/0ac26e60ce...</td>\n",
       "      <td>0.28597</td>\n",
       "      <td>2</td>\n",
       "      <td>https://github.com/dpla/KriKri/blob/0ac26e60ce...</td>\n",
       "    </tr>\n",
       "  </tbody>\n",
       "</table>\n",
       "</div>"
      ],
      "text/plain": [
       "  Language                         Query  \\\n",
       "0     Ruby  get name of enumerated value   \n",
       "\n",
       "                                           GitHubUrl  Relevance Notes  \\\n",
       "0  https://github.com/dpla/KriKri/blob/0ac26e60ce...          1   NaN   \n",
       "\n",
       "  repository_name                 func_path_in_repository  \\\n",
       "0     dpla/KriKri  lib/krikri/harvesters/oai_harvester.rb   \n",
       "\n",
       "                                     func_name  \\\n",
       "0  Krikri::Harvesters.OAIHarvester.concat_enum   \n",
       "\n",
       "                                   whole_func_string language  \\\n",
       "0  def concat_enum(enum_enum)\\n      Enumerator.n...     ruby   \n",
       "\n",
       "                                    func_code_string  \\\n",
       "0  def concat_enum(enum_enum)\\n      Enumerator.n...   \n",
       "\n",
       "                                    func_code_tokens  \\\n",
       "0  [def, concat_enum, (, enum_enum, ), Enumerator...   \n",
       "\n",
       "                           func_documentation_string  \\\n",
       "0  Concatinates two enumerators\\n @todo find a be...   \n",
       "\n",
       "          func_documentation_tokens split_name  \\\n",
       "0  [Concatinates, two, enumerators]      train   \n",
       "\n",
       "                                       func_code_url    score  rank  \\\n",
       "0  https://github.com/dpla/KriKri/blob/0ac26e60ce...  0.28597     2   \n",
       "\n",
       "                                                 url  \n",
       "0  https://github.com/dpla/KriKri/blob/0ac26e60ce...  "
      ]
     },
     "execution_count": 46,
     "metadata": {},
     "output_type": "execute_result"
    }
   ],
   "source": [
    "final"
   ]
  },
  {
   "cell_type": "code",
   "execution_count": 47,
   "id": "829d6390",
   "metadata": {},
   "outputs": [],
   "source": [
    "MRR = 1/final['rank']"
   ]
  },
  {
   "cell_type": "code",
   "execution_count": 48,
   "id": "67167fa3",
   "metadata": {},
   "outputs": [
    {
     "data": {
      "text/plain": [
       "0    0.5\n",
       "Name: rank, dtype: float64"
      ]
     },
     "execution_count": 48,
     "metadata": {},
     "output_type": "execute_result"
    }
   ],
   "source": [
    "MRR"
   ]
  },
  {
   "cell_type": "code",
   "execution_count": null,
   "id": "6e6c70c3",
   "metadata": {},
   "outputs": [],
   "source": []
  }
 ],
 "metadata": {
  "kernelspec": {
   "display_name": "Python 3 (ipykernel)",
   "language": "python",
   "name": "python3"
  },
  "language_info": {
   "codemirror_mode": {
    "name": "ipython",
    "version": 3
   },
   "file_extension": ".py",
   "mimetype": "text/x-python",
   "name": "python",
   "nbconvert_exporter": "python",
   "pygments_lexer": "ipython3",
   "version": "3.9.13"
  }
 },
 "nbformat": 4,
 "nbformat_minor": 5
}
